{
 "cells": [
  {
   "cell_type": "code",
   "execution_count": 4,
   "metadata": {
    "collapsed": true
   },
   "outputs": [],
   "source": [
    "%matplotlib inline\n",
    "from __future__ import division\n",
    "from sklearn.utils import shuffle\n",
    "from sklearn.cross_validation import train_test_split\n",
    "from sklearn.metrics import f1_score\n",
    "from sklearn.datasets import fetch_mldata\n",
    "\n",
    "import numpy as np\n",
    "import matplotlib.pyplot as plt\n",
    "\n",
    "mnist = fetch_mldata('MNIST original')\n",
    "mnist_X, mnist_y = shuffle(mnist.data, mnist.target)#读data\n",
    "\n",
    "mnist_X = mnist_X / 255.0\n",
    "\n",
    "train_X, test_X, train_y, test_y = train_test_split(mnist_X, mnist_y, test_size=0.2)\n",
    "#train_X, valid_X, train_y, valid_y = train_test_split(train_X, train_y, test_size=0.2)\n",
    "\n",
    "\n",
    "\n",
    "\n",
    "\n",
    "\n",
    "def homework(train_X, train_y, test_X):\n",
    "    # WRITE ME\n",
    "    RandomSize = 1000\n",
    "    K = 10\n",
    "    list = [[] for i in range(10)]\n",
    "    for i in range(len(train_y)):\n",
    "        if train_y[i] == 0.0:\n",
    "            list[0].append(train_X[i])\n",
    "        if train_y[i] == 1.0:\n",
    "            list[1].append(train_X[i])\n",
    "        if train_y[i] == 2.0:\n",
    "            list[2].append(train_X[i])\n",
    "        if train_y[i] == 3.0:\n",
    "            list[3].append(train_X[i])\n",
    "        if train_y[i] == 4.0:\n",
    "            list[4].append(train_X[i])\n",
    "        if train_y[i] == 5.0:\n",
    "            list[5].append(train_X[i])\n",
    "        if train_y[i] == 6.0:\n",
    "            list[6].append(train_X[i])\n",
    "        if train_y[i] == 7.0:\n",
    "            list[7].append(train_X[i])\n",
    "        if train_y[i] == 8.0:\n",
    "            list[8].append(train_X[i])\n",
    "        if train_y[i] == 9.0:\n",
    "            list[9].append(train_X[i])\n",
    "    list = np.array(list)\n",
    "#list.shape\n",
    "#print list.shape\n",
    "\n",
    "    Kclassifier = np.zeros((10,RandomSize,784))\n",
    "    for i in range(len(list)):\n",
    "        list[i] = np.array(list[i])\n",
    "        x =np.random.randint(len(list[i]),size=RandomSize)\n",
    "    #print x\n",
    "    #list[i][x,:]\n",
    "        Kclassifier[i] = list[i][x,:]\n",
    "    pred_y = np.zeros(test_X.shape[0])\n",
    "    temp = np.zeros((10,K))\n",
    "\n",
    "    for i in range(test_X.shape[0]):\n",
    "        dist = np.zeros((10,RandomSize))\n",
    "        x = np.zeros(10)\n",
    "        for j in range(10):\n",
    "            d = np.zeros(RandomSize)\n",
    "            for k in range(RandomSize):            \n",
    "                dist[j][k] = np.linalg.norm(test_X[i] - Kclassifier[j][k])\n",
    "            #dist[j][k] = d[k]\n",
    "        #print dist[j]\n",
    "        #for n in range(10)\n",
    "            temp[j] =  np.partition(dist[j], K)[0:K]\n",
    "            x[j] = temp[j].sum()\n",
    "        #print x[j]\n",
    "        \n",
    "        pred_y[i] =  np.argmin(x)\n",
    "\n",
    "\n",
    "    \n",
    "    return pred_y"
   ]
  },
  {
   "cell_type": "code",
   "execution_count": 5,
   "metadata": {
    "collapsed": true
   },
   "outputs": [],
   "source": [
    "pred_y = homework(train_X, train_y, test_X)"
   ]
  },
  {
   "cell_type": "code",
   "execution_count": 6,
   "metadata": {
    "collapsed": false
   },
   "outputs": [
    {
     "data": {
      "text/plain": [
       "0.94621428571428567"
      ]
     },
     "execution_count": 6,
     "metadata": {},
     "output_type": "execute_result"
    }
   ],
   "source": [
    "sum(pred_y == test_y)*1.0 / test_y.shape[0]"
   ]
  },
  {
   "cell_type": "code",
   "execution_count": null,
   "metadata": {
    "collapsed": true
   },
   "outputs": [],
   "source": []
  },
  {
   "cell_type": "code",
   "execution_count": null,
   "metadata": {
    "collapsed": true
   },
   "outputs": [],
   "source": []
  }
 ],
 "metadata": {
  "kernelspec": {
   "display_name": "Python 2",
   "language": "python",
   "name": "python2"
  },
  "language_info": {
   "codemirror_mode": {
    "name": "ipython",
    "version": 2
   },
   "file_extension": ".py",
   "mimetype": "text/x-python",
   "name": "python",
   "nbconvert_exporter": "python",
   "pygments_lexer": "ipython2",
   "version": "2.7.11"
  }
 },
 "nbformat": 4,
 "nbformat_minor": 0
}
